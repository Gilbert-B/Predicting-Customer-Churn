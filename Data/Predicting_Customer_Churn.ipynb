{
  "nbformat": 4,
  "nbformat_minor": 0,
  "metadata": {
    "colab": {
      "provenance": [],
      "collapsed_sections": [
        "S73ZUqkUmyz_"
      ],
      "authorship_tag": "ABX9TyPzYA3kkG0wrKEzgEfn70H+",
      "include_colab_link": true
    },
    "kernelspec": {
      "name": "python3",
      "display_name": "Python 3"
    },
    "language_info": {
      "name": "python"
    }
  },
  "cells": [
    {
      "cell_type": "markdown",
      "metadata": {
        "id": "view-in-github",
        "colab_type": "text"
      },
      "source": [
        "<a href=\"https://colab.research.google.com/github/eaedk/Machine-Learning-Tutorials/blob/main/ML_Step_By_Step_Guide.ipynb\" target=\"_parent\"><img src=\"https://colab.research.google.com/assets/colab-badge.svg\" alt=\"Open In Colab\"/></a>"
      ]
    },
    {
      "cell_type": "markdown",
      "source": [
        "# Intro\n",
        "## General\n",
        "Machine learning allows the user to feed a computer algorithm an immense amount of data and have the computer analyze and make data-driven recommendations and decisions based on only the input data. \n",
        "In most of the situations we want to have a machine learning system to make **predictions**, so we have several categories of machine learning tasks depending on the type of prediction needed: **Classification, Regression, Clustering, Generation**, etc.\n",
        "\n",
        "**Classification** is the task whose goal is the prediction of the label of the class to which the input belongs (e.g., Classification of images in two classes: cats and dogs).\n",
        "**Regression** is the task whose goal is the prediction of numerical value(s) related to the input (e.g., House rent prediction, Estimated time of arrival ).\n",
        "**Generation** is the task whose goal is the creation of something new related to the input (e.g., Text translation, Audio beat generation, Image denoising ). **Clustering** is the task of grouping a set of objects in such a way that objects in the same group (called a **cluster**) are more similar (in some sense) to each other than to those in other **clusters** (e.g., Clients clutering).\n",
        "\n",
        "In machine learning, there are learning paradigms that relate to one aspect of the dataset: **the presence of the label to be predicted**. **Supervised Learning** is the paradigm of learning that is applied when the dataset has the label variables to be predicted, known as ` y variables`. **Unsupervised Learning** is the paradigm of learning that is applied when the dataset has not the label variables to be predicted. **Self-supervised Learning** is the paradigm of learning that is applied when part of the X dataset is considere as the label to be predicted (e.g., the Dataset is made of texts and the model try to predict the next word of each sentence).\n",
        "\n",
        "## Notebook overview\n",
        "\n",
        "This notebook is a guide to start practicing Machine Learning."
      ],
      "metadata": {
        "id": "wW3v1-2n3CzK"
      }
    },
    {
      "cell_type": "markdown",
      "source": [
        "# Setup"
      ],
      "metadata": {
        "id": "n4VFUnkuexCE"
      }
    },
    {
      "cell_type": "markdown",
      "source": [
        "## Installation\n",
        "Here is the section to install all the packages/libraries that will be needed to tackle the challlenge."
      ],
      "metadata": {
        "id": "qdFpRxPje1gw"
      }
    },
    {
      "cell_type": "code",
      "source": [
        "# !pip install -q <lib_001> <lib_002> ..."
      ],
      "metadata": {
        "id": "W-d-roFQe6yi"
      },
      "execution_count": null,
      "outputs": []
    },
    {
      "cell_type": "markdown",
      "source": [
        "## Importation\n",
        "Here is the section to import all the packages/libraries that will be used through this notebook."
      ],
      "metadata": {
        "id": "0HmLxlQre7HW"
      }
    },
    {
      "cell_type": "code",
      "source": [
        "# Data handling\n",
        "import pandas as pd\n",
        "\n",
        "# Vizualisation (Matplotlib, Plotly, Seaborn, etc. )\n",
        "...\n",
        "\n",
        "# EDA (pandas-profiling, etc. )\n",
        "...\n",
        "\n",
        "# Feature Processing (Scikit-learn processing, etc. )\n",
        "...\n",
        "\n",
        "# Machine Learning (Scikit-learn Estimators, Catboost, LightGBM, etc. )\n",
        "...\n",
        "\n",
        "# Hyperparameters Fine-tuning (Scikit-learn hp search, cross-validation, etc. )\n",
        "...\n",
        "\n",
        "# Other packages\n",
        "import os\n"
      ],
      "metadata": {
        "id": "MP62JaiKfCnS"
      },
      "execution_count": null,
      "outputs": []
    },
    {
      "cell_type": "markdown",
      "source": [
        "# Data Loading\n",
        "Here is the section to load the datasets (train, eval, test) and the additional files"
      ],
      "metadata": {
        "id": "UfOADQf0e9i1"
      }
    },
    {
      "cell_type": "code",
      "source": [
        "# For CSV, use pandas.read_csv"
      ],
      "metadata": {
        "id": "KIQyG5EcfQlU"
      },
      "execution_count": null,
      "outputs": []
    },
    {
      "cell_type": "markdown",
      "source": [
        "# Exploratory Data Analysis: EDA\n",
        "Here is the section to **inspect** the datasets in depth, **present** it, make **hypotheses** and **think** the *cleaning, processing and features creation*."
      ],
      "metadata": {
        "id": "okaZxnc3fRId"
      }
    },
    {
      "cell_type": "code",
      "source": [
        "# Code here"
      ],
      "metadata": {
        "id": "0VNR9LfZfbGe"
      },
      "execution_count": null,
      "outputs": []
    },
    {
      "cell_type": "markdown",
      "source": [
        "# Feature Processing & Engineering\n",
        "Here is the section to **clean**, **process** the dataset and **create new features**."
      ],
      "metadata": {
        "id": "R8WB7j-3fxzL"
      }
    },
    {
      "cell_type": "markdown",
      "source": [
        "## Drop Duplicates"
      ],
      "metadata": {
        "id": "X6Rh5SimmcGe"
      }
    },
    {
      "cell_type": "code",
      "source": [
        "# Use pandas.DataFrame.drop_duplicates method"
      ],
      "metadata": {
        "id": "dIBrDy1Pmo2_"
      },
      "execution_count": null,
      "outputs": []
    },
    {
      "cell_type": "markdown",
      "source": [
        "## Impute Missing Values"
      ],
      "metadata": {
        "id": "dLJuYG_JgBH8"
      }
    },
    {
      "cell_type": "code",
      "source": [
        "# Use sklearn.impute.SimpleImputer"
      ],
      "metadata": {
        "id": "52POL1F8gLEa"
      },
      "execution_count": null,
      "outputs": []
    },
    {
      "cell_type": "markdown",
      "source": [
        "## New Features Creation"
      ],
      "metadata": {
        "id": "vOoXNG6lgLVD"
      }
    },
    {
      "cell_type": "code",
      "execution_count": null,
      "metadata": {
        "id": "fU5RQ0itegd4"
      },
      "outputs": [],
      "source": [
        "# Code here"
      ]
    },
    {
      "cell_type": "markdown",
      "source": [
        "## Features Encoding\n",
        "\n",
        "\n"
      ],
      "metadata": {
        "id": "eYkNdwQ-gRod"
      }
    },
    {
      "cell_type": "code",
      "source": [
        "# From sklearn.preprocessing use OneHotEncoder to encode the categorical features."
      ],
      "metadata": {
        "id": "99vphpwPgbUw"
      },
      "execution_count": null,
      "outputs": []
    },
    {
      "cell_type": "markdown",
      "source": [
        "## Dataset Splitting"
      ],
      "metadata": {
        "id": "wxYGw6zug8lI"
      }
    },
    {
      "cell_type": "code",
      "source": [
        "# Use train_test_split with a random_state, and add stratify for Classification"
      ],
      "metadata": {
        "id": "cbsbMbs1hDzo"
      },
      "execution_count": null,
      "outputs": []
    },
    {
      "cell_type": "markdown",
      "source": [
        "## Features Scaling\n"
      ],
      "metadata": {
        "id": "Q0TvhRVghEcP"
      }
    },
    {
      "cell_type": "code",
      "source": [
        "# From sklearn.preprocessing use StandardScaler, MinMaxScaler, etc."
      ],
      "metadata": {
        "id": "pf6WtuHphLBE"
      },
      "execution_count": null,
      "outputs": []
    },
    {
      "cell_type": "markdown",
      "source": [
        "## Optional: Train Dataset Balancing "
      ],
      "metadata": {
        "id": "4-UlAVv4iYz8"
      }
    },
    {
      "cell_type": "code",
      "source": [
        "# Use Over-sampling/Under-sampling methods, more details here: https://imbalanced-learn.org/stable/install.html"
      ],
      "metadata": {
        "id": "ySLn254IiujE"
      },
      "execution_count": null,
      "outputs": []
    },
    {
      "cell_type": "markdown",
      "source": [
        "# Machine Learning Modeling \n",
        "Here is the section to **build**, **train**, **evaluate** and **compare** the models to each others."
      ],
      "metadata": {
        "id": "WloQgMqqf6bT"
      }
    },
    {
      "cell_type": "markdown",
      "source": [
        "## Simple Model #001\n",
        "\n",
        "Please, keep the following structure to try all the model you want."
      ],
      "metadata": {
        "id": "tTiiqCnG1FA2"
      }
    },
    {
      "cell_type": "markdown",
      "source": [
        "### Create the Model"
      ],
      "metadata": {
        "id": "46li5Z2z1ME7"
      }
    },
    {
      "cell_type": "code",
      "source": [
        "# Code here"
      ],
      "metadata": {
        "id": "1Fjv6pJt1uoV"
      },
      "execution_count": null,
      "outputs": []
    },
    {
      "cell_type": "markdown",
      "source": [
        "### Train the Model"
      ],
      "metadata": {
        "id": "XwHqTKk11U5f"
      }
    },
    {
      "cell_type": "code",
      "source": [
        "# Use the .fit method"
      ],
      "metadata": {
        "id": "fgsct6LH1v9e"
      },
      "execution_count": null,
      "outputs": []
    },
    {
      "cell_type": "markdown",
      "source": [
        "### Evaluate the Model on the Evaluation dataset (Evalset)"
      ],
      "metadata": {
        "id": "M6aXGMEf1Yra"
      }
    },
    {
      "cell_type": "code",
      "source": [
        "# Compute the valid metrics for the use case # Optional: show the classification report "
      ],
      "metadata": {
        "id": "9XBrsspR1wso"
      },
      "execution_count": null,
      "outputs": []
    },
    {
      "cell_type": "markdown",
      "source": [
        "### Predict on a unknown dataset (Testset)"
      ],
      "metadata": {
        "id": "001NdcP11dMu"
      }
    },
    {
      "cell_type": "code",
      "source": [
        "# Use .predict method # .predict_proba is available just for classification"
      ],
      "metadata": {
        "id": "mWnGeGn0i3b0"
      },
      "execution_count": null,
      "outputs": []
    },
    {
      "cell_type": "markdown",
      "source": [
        "## Simple Model #002"
      ],
      "metadata": {
        "id": "A54gPujOmqaV"
      }
    },
    {
      "cell_type": "markdown",
      "source": [
        "### Create the Model"
      ],
      "metadata": {
        "id": "MC6WaxZUmqaW"
      }
    },
    {
      "cell_type": "code",
      "source": [
        "# Code here"
      ],
      "metadata": {
        "id": "THTw7OjhmqaW"
      },
      "execution_count": null,
      "outputs": []
    },
    {
      "cell_type": "markdown",
      "source": [
        "### Train the Model"
      ],
      "metadata": {
        "id": "n7CV9W0DmqaW"
      }
    },
    {
      "cell_type": "code",
      "source": [
        "# Use the .fit method"
      ],
      "metadata": {
        "id": "uQMdz0JPmqaW"
      },
      "execution_count": null,
      "outputs": []
    },
    {
      "cell_type": "markdown",
      "source": [
        "### Evaluate the Model on the Evaluation dataset (Evalset)"
      ],
      "metadata": {
        "id": "f1Fb-2_PmqaW"
      }
    },
    {
      "cell_type": "code",
      "source": [
        "# Compute the valid metrics for the use case # Optional: show the classification report "
      ],
      "metadata": {
        "id": "oz3-pxgDmqaW"
      },
      "execution_count": null,
      "outputs": []
    },
    {
      "cell_type": "markdown",
      "source": [
        "### Predict on a unknown dataset (Testset)"
      ],
      "metadata": {
        "id": "7-x7GFqxmqaW"
      }
    },
    {
      "cell_type": "code",
      "source": [
        "# Use .predict method # .predict_proba is available just for classification"
      ],
      "metadata": {
        "id": "ORaQB1zLmqaW"
      },
      "execution_count": null,
      "outputs": []
    },
    {
      "cell_type": "markdown",
      "source": [
        "## Models comparison\n",
        "Create a pandas dataframe that will allow you to compare your models.\n",
        "\n",
        "Find a sample frame below :\n",
        "\n",
        "|     | Model_Name     | Metric (metric_name)    | Details  |\n",
        "|:---:|:--------------:|:--------------:|:-----------------:|\n",
        "| 0   |  -             |  -             | -                 |\n",
        "| 1   |  -             |  -             | -                 |\n",
        "\n",
        "\n",
        "You might use the pandas dataframe method `.sort_values()` to sort the dataframe regarding the metric."
      ],
      "metadata": {
        "id": "S73ZUqkUmyz_"
      }
    },
    {
      "cell_type": "code",
      "source": [],
      "metadata": {
        "id": "jpwLiOo9pVIQ"
      },
      "execution_count": null,
      "outputs": []
    },
    {
      "cell_type": "markdown",
      "source": [
        "## Hyperparameters tuning \n",
        "\n",
        "Fine-tune the Top-k models (3 < k < 5) using a ` GridSearchCV`  (that is in sklearn.model_selection\n",
        ") to find the best hyperparameters and achieve the maximum performance of each of the Top-k models, then compare them again to select the best one."
      ],
      "metadata": {
        "id": "ezmrABneph31"
      }
    },
    {
      "cell_type": "code",
      "source": [
        "# Code here"
      ],
      "metadata": {
        "id": "FpTEDK9RrlRl"
      },
      "execution_count": null,
      "outputs": []
    },
    {
      "cell_type": "markdown",
      "source": [
        "# Export key components\n",
        "Here is the section to **export** the important ML objects that will be use to develop an app: *Encoder, Scaler, ColumnTransformer, Model, Pipeline, etc*."
      ],
      "metadata": {
        "id": "I_7_gsrX2VSk"
      }
    },
    {
      "cell_type": "code",
      "source": [
        "# Use pickle : put all your key components in a python dictionary and save it as a file that will be loaded in an app"
      ],
      "metadata": {
        "id": "32mviWyGAMqP"
      },
      "execution_count": null,
      "outputs": []
    }
  ]
}