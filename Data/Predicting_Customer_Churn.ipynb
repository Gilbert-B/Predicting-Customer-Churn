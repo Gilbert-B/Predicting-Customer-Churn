{
  "cells": [
    {
      "cell_type": "markdown",
      "metadata": {
        "colab_type": "text",
        "id": "view-in-github"
      },
      "source": [
        "<a href=\"https://colab.research.google.com/github/eaedk/Machine-Learning-Tutorials/blob/main/ML_Step_By_Step_Guide.ipynb\" target=\"_parent\"><img src=\"https://colab.research.google.com/assets/colab-badge.svg\" alt=\"Open In Colab\"/></a>"
      ]
    },
    {
      "attachments": {},
      "cell_type": "markdown",
      "metadata": {
        "id": "wW3v1-2n3CzK"
      },
      "source": [
        "# Intro\n",
        "## General\n",
        "Machine learning allows the user to feed a computer algorithm an immense amount of data and have the computer analyze and make data-driven recommendations and decisions based on only the input data. \n",
        "In most of the situations we want to have a machine learning system to make **predictions**, so we have several categories of machine learning tasks depending on the type of prediction needed: **Classification, Regression, Clustering, Generation**, etc.\n",
        "\n",
        "**Classification** is the task whose goal is the prediction of the label of the class to which the input belongs (e.g., Classification of images in two classes: cats and dogs).\n",
        "**Regression** is the task whose goal is the prediction of numerical value(s) related to the input (e.g., House rent prediction, Estimated time of arrival ).\n",
        "**Generation** is the task whose goal is the creation of something new related to the input (e.g., Text translation, Audio beat generation, Image denoising ). **Clustering** is the task of grouping a set of objects in such a way that objects in the same group (called a **cluster**) are more similar (in some sense) to each other than to those in other **clusters** (e.g., Clients clutering).\n",
        "\n",
        "In machine learning, there are learning paradigms that relate to one aspect of the dataset: **the presence of the label to be predicted**. **Supervised Learning** is the paradigm of learning that is applied when the dataset has the label variables to be predicted, known as ` y variables`. **Unsupervised Learning** is the paradigm of learning that is applied when the dataset has not the label variables to be predicted. **Self-supervised Learning** is the paradigm of learning that is applied when part of the X dataset is considere as the label to be predicted (e.g., the Dataset is made of texts and the model try to predict the next word of each sentence).\n",
        "\n",
        "## Notebook overview\n",
        "\n",
        "This notebook is documents a project that is aimed at finding the likelihood of a customer leaving our target organization, the key indicators of the churn as well as the retention strategies that can be implemented to avert this problem."
      ]
    },
    {
      "cell_type": "markdown",
      "metadata": {
        "id": "n4VFUnkuexCE"
      },
      "source": [
        "# Setup"
      ]
    },
    {
      "cell_type": "markdown",
      "metadata": {
        "id": "qdFpRxPje1gw"
      },
      "source": [
        "## Installation\n",
        "Here is the section to install all the packages/libraries that will be needed to tackle the challlenge."
      ]
    },
    {
      "cell_type": "code",
      "execution_count": null,
      "metadata": {
        "id": "W-d-roFQe6yi"
      },
      "outputs": [],
      "source": [
        "# !pip install -q <lib_001> <lib_002> ..."
      ]
    },
    {
      "cell_type": "markdown",
      "metadata": {
        "id": "0HmLxlQre7HW"
      },
      "source": [
        "## Importation\n",
        "Here is the section to import all the packages/libraries that will be used through this notebook."
      ]
    },
    {
      "cell_type": "code",
      "execution_count": null,
      "metadata": {
        "id": "MP62JaiKfCnS"
      },
      "outputs": [],
      "source": [
        "# Data handling\n",
        "import pandas as pd\n",
        "\n",
        "# Vizualisation (Matplotlib, Plotly, Seaborn, etc. )\n",
        "...\n",
        "\n",
        "# EDA (pandas-profiling, etc. )\n",
        "...\n",
        "\n",
        "# Feature Processing (Scikit-learn processing, etc. )\n",
        "...\n",
        "\n",
        "# Machine Learning (Scikit-learn Estimators, Catboost, LightGBM, etc. )\n",
        "...\n",
        "\n",
        "# Hyperparameters Fine-tuning (Scikit-learn hp search, cross-validation, etc. )\n",
        "...\n",
        "\n",
        "# Other packages\n",
        "import os\n"
      ]
    },
    {
      "cell_type": "markdown",
      "metadata": {
        "id": "UfOADQf0e9i1"
      },
      "source": [
        "# Data Loading\n",
        "Here is the section to load the datasets (train, eval, test) and the additional files"
      ]
    },
    {
      "cell_type": "code",
      "execution_count": null,
      "metadata": {
        "id": "KIQyG5EcfQlU"
      },
      "outputs": [],
      "source": [
        "# For CSV, use pandas.read_csv"
      ]
    },
    {
      "cell_type": "markdown",
      "metadata": {
        "id": "okaZxnc3fRId"
      },
      "source": [
        "# Exploratory Data Analysis: EDA\n",
        "Here is the section to **inspect** the datasets in depth, **present** it, make **hypotheses** and **think** the *cleaning, processing and features creation*."
      ]
    },
    {
      "cell_type": "code",
      "execution_count": null,
      "metadata": {
        "id": "0VNR9LfZfbGe"
      },
      "outputs": [],
      "source": [
        "# Code here"
      ]
    },
    {
      "cell_type": "markdown",
      "metadata": {
        "id": "R8WB7j-3fxzL"
      },
      "source": [
        "# Feature Processing & Engineering\n",
        "Here is the section to **clean**, **process** the dataset and **create new features**."
      ]
    },
    {
      "cell_type": "markdown",
      "metadata": {
        "id": "X6Rh5SimmcGe"
      },
      "source": [
        "## Drop Duplicates"
      ]
    },
    {
      "cell_type": "code",
      "execution_count": null,
      "metadata": {
        "id": "dIBrDy1Pmo2_"
      },
      "outputs": [],
      "source": [
        "# Use pandas.DataFrame.drop_duplicates method"
      ]
    },
    {
      "cell_type": "markdown",
      "metadata": {
        "id": "dLJuYG_JgBH8"
      },
      "source": [
        "## Impute Missing Values"
      ]
    },
    {
      "cell_type": "code",
      "execution_count": null,
      "metadata": {
        "id": "52POL1F8gLEa"
      },
      "outputs": [],
      "source": [
        "# Use sklearn.impute.SimpleImputer"
      ]
    },
    {
      "cell_type": "markdown",
      "metadata": {
        "id": "vOoXNG6lgLVD"
      },
      "source": [
        "## New Features Creation"
      ]
    },
    {
      "cell_type": "code",
      "execution_count": null,
      "metadata": {
        "id": "fU5RQ0itegd4"
      },
      "outputs": [],
      "source": [
        "# Code here"
      ]
    },
    {
      "cell_type": "markdown",
      "metadata": {
        "id": "eYkNdwQ-gRod"
      },
      "source": [
        "## Features Encoding\n",
        "\n",
        "\n"
      ]
    },
    {
      "cell_type": "code",
      "execution_count": null,
      "metadata": {
        "id": "99vphpwPgbUw"
      },
      "outputs": [],
      "source": [
        "# From sklearn.preprocessing use OneHotEncoder to encode the categorical features."
      ]
    },
    {
      "cell_type": "markdown",
      "metadata": {
        "id": "wxYGw6zug8lI"
      },
      "source": [
        "## Dataset Splitting"
      ]
    },
    {
      "cell_type": "code",
      "execution_count": null,
      "metadata": {
        "id": "cbsbMbs1hDzo"
      },
      "outputs": [],
      "source": [
        "# Use train_test_split with a random_state, and add stratify for Classification"
      ]
    },
    {
      "cell_type": "markdown",
      "metadata": {
        "id": "Q0TvhRVghEcP"
      },
      "source": [
        "## Features Scaling\n"
      ]
    },
    {
      "cell_type": "code",
      "execution_count": null,
      "metadata": {
        "id": "pf6WtuHphLBE"
      },
      "outputs": [],
      "source": [
        "# From sklearn.preprocessing use StandardScaler, MinMaxScaler, etc."
      ]
    },
    {
      "cell_type": "markdown",
      "metadata": {
        "id": "4-UlAVv4iYz8"
      },
      "source": [
        "## Optional: Train Dataset Balancing "
      ]
    },
    {
      "cell_type": "code",
      "execution_count": null,
      "metadata": {
        "id": "ySLn254IiujE"
      },
      "outputs": [],
      "source": [
        "# Use Over-sampling/Under-sampling methods, more details here: https://imbalanced-learn.org/stable/install.html"
      ]
    },
    {
      "cell_type": "markdown",
      "metadata": {
        "id": "WloQgMqqf6bT"
      },
      "source": [
        "# Machine Learning Modeling \n",
        "Here is the section to **build**, **train**, **evaluate** and **compare** the models to each others."
      ]
    },
    {
      "cell_type": "markdown",
      "metadata": {
        "id": "tTiiqCnG1FA2"
      },
      "source": [
        "## Simple Model #001\n",
        "\n",
        "Please, keep the following structure to try all the model you want."
      ]
    },
    {
      "cell_type": "markdown",
      "metadata": {
        "id": "46li5Z2z1ME7"
      },
      "source": [
        "### Create the Model"
      ]
    },
    {
      "cell_type": "code",
      "execution_count": null,
      "metadata": {
        "id": "1Fjv6pJt1uoV"
      },
      "outputs": [],
      "source": [
        "# Code here"
      ]
    },
    {
      "cell_type": "markdown",
      "metadata": {
        "id": "XwHqTKk11U5f"
      },
      "source": [
        "### Train the Model"
      ]
    },
    {
      "cell_type": "code",
      "execution_count": null,
      "metadata": {
        "id": "fgsct6LH1v9e"
      },
      "outputs": [],
      "source": [
        "# Use the .fit method"
      ]
    },
    {
      "cell_type": "markdown",
      "metadata": {
        "id": "M6aXGMEf1Yra"
      },
      "source": [
        "### Evaluate the Model on the Evaluation dataset (Evalset)"
      ]
    },
    {
      "cell_type": "code",
      "execution_count": null,
      "metadata": {
        "id": "9XBrsspR1wso"
      },
      "outputs": [],
      "source": [
        "# Compute the valid metrics for the use case # Optional: show the classification report "
      ]
    },
    {
      "cell_type": "markdown",
      "metadata": {
        "id": "001NdcP11dMu"
      },
      "source": [
        "### Predict on a unknown dataset (Testset)"
      ]
    },
    {
      "cell_type": "code",
      "execution_count": null,
      "metadata": {
        "id": "mWnGeGn0i3b0"
      },
      "outputs": [],
      "source": [
        "# Use .predict method # .predict_proba is available just for classification"
      ]
    },
    {
      "cell_type": "markdown",
      "metadata": {
        "id": "A54gPujOmqaV"
      },
      "source": [
        "## Simple Model #002"
      ]
    },
    {
      "cell_type": "markdown",
      "metadata": {
        "id": "MC6WaxZUmqaW"
      },
      "source": [
        "### Create the Model"
      ]
    },
    {
      "cell_type": "code",
      "execution_count": null,
      "metadata": {
        "id": "THTw7OjhmqaW"
      },
      "outputs": [],
      "source": [
        "# Code here"
      ]
    },
    {
      "cell_type": "markdown",
      "metadata": {
        "id": "n7CV9W0DmqaW"
      },
      "source": [
        "### Train the Model"
      ]
    },
    {
      "cell_type": "code",
      "execution_count": null,
      "metadata": {
        "id": "uQMdz0JPmqaW"
      },
      "outputs": [],
      "source": [
        "# Use the .fit method"
      ]
    },
    {
      "cell_type": "markdown",
      "metadata": {
        "id": "f1Fb-2_PmqaW"
      },
      "source": [
        "### Evaluate the Model on the Evaluation dataset (Evalset)"
      ]
    },
    {
      "cell_type": "code",
      "execution_count": null,
      "metadata": {
        "id": "oz3-pxgDmqaW"
      },
      "outputs": [],
      "source": [
        "# Compute the valid metrics for the use case # Optional: show the classification report "
      ]
    },
    {
      "cell_type": "markdown",
      "metadata": {
        "id": "7-x7GFqxmqaW"
      },
      "source": [
        "### Predict on a unknown dataset (Testset)"
      ]
    },
    {
      "cell_type": "code",
      "execution_count": null,
      "metadata": {
        "id": "ORaQB1zLmqaW"
      },
      "outputs": [],
      "source": [
        "# Use .predict method # .predict_proba is available just for classification"
      ]
    },
    {
      "cell_type": "markdown",
      "metadata": {
        "id": "S73ZUqkUmyz_"
      },
      "source": [
        "## Models comparison\n",
        "Create a pandas dataframe that will allow you to compare your models.\n",
        "\n",
        "Find a sample frame below :\n",
        "\n",
        "|     | Model_Name     | Metric (metric_name)    | Details  |\n",
        "|:---:|:--------------:|:--------------:|:-----------------:|\n",
        "| 0   |  -             |  -             | -                 |\n",
        "| 1   |  -             |  -             | -                 |\n",
        "\n",
        "\n",
        "You might use the pandas dataframe method `.sort_values()` to sort the dataframe regarding the metric."
      ]
    },
    {
      "cell_type": "code",
      "execution_count": null,
      "metadata": {
        "id": "jpwLiOo9pVIQ"
      },
      "outputs": [],
      "source": []
    },
    {
      "cell_type": "markdown",
      "metadata": {
        "id": "ezmrABneph31"
      },
      "source": [
        "## Hyperparameters tuning \n",
        "\n",
        "Fine-tune the Top-k models (3 < k < 5) using a ` GridSearchCV`  (that is in sklearn.model_selection\n",
        ") to find the best hyperparameters and achieve the maximum performance of each of the Top-k models, then compare them again to select the best one."
      ]
    },
    {
      "cell_type": "code",
      "execution_count": null,
      "metadata": {
        "id": "FpTEDK9RrlRl"
      },
      "outputs": [],
      "source": [
        "# Code here"
      ]
    },
    {
      "cell_type": "markdown",
      "metadata": {
        "id": "I_7_gsrX2VSk"
      },
      "source": [
        "# Export key components\n",
        "Here is the section to **export** the important ML objects that will be use to develop an app: *Encoder, Scaler, ColumnTransformer, Model, Pipeline, etc*."
      ]
    },
    {
      "cell_type": "code",
      "execution_count": null,
      "metadata": {
        "id": "32mviWyGAMqP"
      },
      "outputs": [],
      "source": [
        "# Use pickle : put all your key components in a python dictionary and save it as a file that will be loaded in an app"
      ]
    }
  ],
  "metadata": {
    "colab": {
      "authorship_tag": "ABX9TyPzYA3kkG0wrKEzgEfn70H+",
      "collapsed_sections": [
        "S73ZUqkUmyz_"
      ],
      "include_colab_link": true,
      "provenance": []
    },
    "kernelspec": {
      "display_name": "Python 3",
      "name": "python3"
    },
    "language_info": {
      "name": "python"
    }
  },
  "nbformat": 4,
  "nbformat_minor": 0
}
